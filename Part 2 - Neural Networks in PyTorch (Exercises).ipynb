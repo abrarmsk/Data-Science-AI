{
 "cells": [
  {
   "cell_type": "markdown",
   "metadata": {},
   "source": [
    "# Neural networks with PyTorch\n",
    "\n",
    "Deep learning networks tend to be massive with dozens or hundreds of layers, that's where the term \"deep\" comes from. You can build one of these deep networks using only weight matrices as we did in the previous notebook, but in general it's very cumbersome and difficult to implement. PyTorch has a nice module `nn` that provides a nice way to efficiently build large neural networks."
   ]
  },
  {
   "cell_type": "code",
   "execution_count": 6,
   "metadata": {},
   "outputs": [],
   "source": [
    "# Import necessary packages\n",
    "\n",
    "%matplotlib inline\n",
    "%config InlineBackend.figure_format = 'retina'\n",
    "\n",
    "import numpy as np\n",
    "import torch\n",
    "\n",
    "import helper\n",
    "\n",
    "import matplotlib.pyplot as plt"
   ]
  },
  {
   "cell_type": "markdown",
   "metadata": {},
   "source": [
    "\n",
    "Now we're going to build a larger network that can solve a (formerly) difficult problem, identifying text in an image. Here we'll use the MNIST dataset which consists of greyscale handwritten digits. Each image is 28x28 pixels, you can see a sample below\n",
    "\n",
    "<img src='assets/mnist.png'>\n",
    "\n",
    "Our goal is to build a neural network that can take one of these images and predict the digit in the image.\n",
    "\n",
    "First up, we need to get our dataset. This is provided through the `torchvision` package. The code below will download the MNIST dataset, then create training and test datasets for us. Don't worry too much about the details here, you'll learn more about this later."
   ]
  },
  {
   "cell_type": "code",
   "execution_count": 7,
   "metadata": {},
   "outputs": [],
   "source": [
    "### Run this cell\n",
    "\n",
    "from torchvision import datasets, transforms\n",
    "\n",
    "# Define a transform to normalize the data\n",
    "transform = transforms.Compose([transforms.ToTensor(),\n",
    "                              transforms.Normalize((0.5,), (0.5,)),\n",
    "                              ])\n",
    "\n",
    "# Download and load the training data\n",
    "trainset = datasets.MNIST('~/.pytorch/MNIST_data/', download=True, train=True, transform=transform)\n",
    "trainloader = torch.utils.data.DataLoader(trainset, batch_size=64, shuffle=True)"
   ]
  },
  {
   "cell_type": "markdown",
   "metadata": {},
   "source": [
    "We have the training data loaded into `trainloader` and we make that an iterator with `iter(trainloader)`. Later, we'll use this to loop through the dataset for training, like\n",
    "\n",
    "```python\n",
    "for image, label in trainloader:\n",
    "    ## do things with images and labels\n",
    "```\n",
    "\n",
    "You'll notice I created the `trainloader` with a batch size of 64, and `shuffle=True`. The batch size is the number of images we get in one iteration from the data loader and pass through our network, often called a *batch*. And `shuffle=True` tells it to shuffle the dataset every time we start going through the data loader again. But here I'm just grabbing the first batch so we can check out the data. We can see below that `images` is just a tensor with size `(64, 1, 28, 28)`. So, 64 images per batch, 1 color channel, and 28x28 images."
   ]
  },
  {
   "cell_type": "code",
   "execution_count": 8,
   "metadata": {},
   "outputs": [
    {
     "name": "stdout",
     "output_type": "stream",
     "text": [
      "<class 'torch.Tensor'>\n",
      "torch.Size([64, 1, 28, 28])\n",
      "torch.Size([64])\n"
     ]
    }
   ],
   "source": [
    "dataiter = iter(trainloader)\n",
    "images, labels = dataiter.next()\n",
    "print(type(images))\n",
    "print(images.shape)\n",
    "print(labels.shape)"
   ]
  },
  {
   "cell_type": "markdown",
   "metadata": {},
   "source": [
    "This is what one of the images looks like. "
   ]
  },
  {
   "cell_type": "code",
   "execution_count": 9,
   "metadata": {},
   "outputs": [
    {
     "data": {
      "image/png": "[encoded data removed]",
      "text/plain": [
       "<Figure size 432x288 with 1 Axes>"
      ]
     },
     "metadata": {
      "image/png": {
       "height": 250,
       "width": 253
      },
      "needs_background": "light"
     },
     "output_type": "display_data"
    }
   ],
   "source": [
    "plt.imshow(images[1].numpy().squeeze(), cmap='Greys_r');"
   ]
  },
  {
   "cell_type": "markdown",
   "metadata": {},
   "source": [
    "First, let's try to build a simple network for this dataset using weight matrices and matrix multiplications. Then, we'll see how to do it using PyTorch's `nn` module which provides a much more convenient and powerful method for defining network architectures.\n",
    "\n",
    "The networks you've seen so far are called *fully-connected* or *dense* networks. Each unit in one layer is connected to each unit in the next layer. In fully-connected networks, the input to each layer must be a one-dimensional vector (which can be stacked into a 2D tensor as a batch of multiple examples). However, our images are 28x28 2D tensors, so we need to convert them into 1D vectors. Thinking about sizes, we need to convert the batch of images with shape `(64, 1, 28, 28)` to a have a shape of `(64, 784)`, 784 is 28 times 28. This is typically called *flattening*, we flattened the 2D images into 1D vectors.\n",
    "\n",
    "Previously you built a network with one output unit. Here we need 10 output units, one for each digit. We want our network to predict the digit shown in an image, so what we'll do is calculate probabilities that the image is of any one digit or class. This ends up being a discrete probability distribution over the classes (digits) that tells us the most likely class for the image. That means we need 10 output units for the 10 classes (digits). We'll see how to convert the network output into a probability distribution next.\n",
    "\n",
    "> **Exercise:** Flatten the batch of images `images`. Then build a multi-layer network with 784 input units, 256 hidden units, and 10 output units using random tensors for the weights and biases. For now, use a sigmoid activation for the hidden layer. Leave the output layer without an activation, we'll add one that gives us a probability distribution next."
   ]
  },
  {
   "cell_type": "code",
   "execution_count": 13,
   "metadata": {},
   "outputs": [
    {
     "name": "stdout",
     "output_type": "stream",
     "text": [
      "tensor([[ 6.9226e+00, -5.4063e+00, -8.7329e-01, -1.6227e+01,  4.5963e+00,\n",
      "         -5.0992e+00,  2.3256e+01,  1.5418e+01,  8.5869e-01, -3.5437e+00],\n",
      "        [ 1.0239e+01,  1.5851e+01, -9.0020e+00, -2.0016e+01, -3.8430e+00,\n",
      "          2.8336e+00,  2.2781e+01,  1.1267e+01,  1.5110e+00,  1.1584e+01],\n",
      "        [ 2.7767e+00, -8.8949e+00,  1.3841e+00, -1.9850e+01,  4.0364e+00,\n",
      "          3.0272e+00,  3.1119e+01,  9.6562e+00,  1.5755e+00,  7.6931e+00],\n",
      "        [-1.8849e-01, -3.4568e+00, -2.4834e-02, -1.0477e+01,  4.1107e+00,\n",
      "          6.8576e+00,  1.0987e+01,  7.3649e+00, -8.6085e+00, -4.4555e+00],\n",
      "        [-2.6215e+00,  6.3279e+00, -1.1297e+01, -2.2239e+01,  1.2004e+00,\n",
      "          7.0161e+00,  2.3625e+01,  1.5930e+00,  8.3942e+00, -1.0807e+00],\n",
      "        [ 4.9373e+00, -7.0027e-02, -4.2509e+00, -1.7272e+01,  1.0122e+00,\n",
      "          3.1467e+00,  1.9577e+01,  4.8083e+00,  5.4114e+00, -4.6871e-01],\n",
      "        [-2.2564e+00,  5.4592e-02,  9.9899e-01, -8.1006e+00,  1.0296e+01,\n",
      "          6.9465e+00,  2.0990e+01,  1.2383e+01,  2.3534e+00, -6.2647e+00],\n",
      "        [ 1.5222e+00, -3.5019e-01, -5.1878e+00, -1.8288e+01, -8.4372e+00,\n",
      "          3.6247e+00,  2.0147e+01,  9.4834e+00, -1.8239e+00, -4.3044e+00],\n",
      "        [-3.2503e+00,  7.1552e+00, -2.1193e+00, -1.5041e+01,  4.2635e+00,\n",
      "          1.1473e+01,  1.5650e+01,  6.4341e+00, -2.0552e+00,  1.5794e+00],\n",
      "        [ 3.1745e+00, -6.6804e+00, -9.4740e+00, -1.2519e+01,  4.5119e+00,\n",
      "          5.5539e+00,  1.9141e+01,  1.3511e+01, -1.0706e+01, -5.3590e+00],\n",
      "        [-2.6293e+00,  1.3511e+01, -4.1206e+00, -2.0004e+01,  5.5244e+00,\n",
      "         -6.5949e-01,  1.6317e+01,  9.3116e+00,  7.0957e-01,  2.5617e+00],\n",
      "        [ 3.0936e+00,  7.9075e+00, -1.0698e+00, -1.5675e+01,  1.2650e+00,\n",
      "          1.3846e+00,  1.4721e+01,  1.1415e+01, -5.0918e+00, -5.7128e+00],\n",
      "        [ 1.2929e+01, -1.2884e+00, -2.8557e+00, -1.1124e+01,  1.0142e+00,\n",
      "          1.6016e+00,  2.0052e+01,  1.1370e+01, -1.7125e+00,  1.4542e-01],\n",
      "        [ 5.1437e+00,  7.3734e+00, -7.0394e+00, -4.7807e+00,  3.6707e+00,\n",
      "          4.9630e+00,  1.3933e+01,  5.4610e+00,  1.8853e+00, -2.7623e+00],\n",
      "        [ 8.5469e+00, -7.4170e-01, -3.4126e+00, -3.1043e+01,  7.4501e-01,\n",
      "         -3.3609e+00,  2.7289e+01,  9.9391e+00,  7.7233e+00, -5.7139e+00],\n",
      "        [ 8.5360e+00, -1.0029e+01, -1.1254e+01, -1.0571e+01,  1.1240e+01,\n",
      "          4.5539e+00,  1.2238e+01,  8.9055e+00, -4.2614e+00, -9.5116e+00],\n",
      "        [ 1.1481e+00, -1.2958e+01, -3.5586e+00, -7.8362e-01,  3.4105e+00,\n",
      "         -1.2112e+00,  2.2261e+01, -3.6038e+00,  3.7797e+00, -2.3589e+00],\n",
      "        [ 4.1586e+00,  2.1256e+00, -6.0495e-01, -1.0191e+01,  8.6152e+00,\n",
      "          4.8788e+00,  2.3355e+01,  5.5478e+00, -6.2273e+00,  3.6313e+00],\n",
      "        [ 5.5888e+00,  8.1940e+00, -1.0836e+00, -1.5700e+01,  3.5478e+00,\n",
      "          7.3981e+00,  2.1204e+01,  1.5276e+01, -6.2372e+00, -1.3702e+00],\n",
      "        [ 1.2089e+01,  7.7474e-01, -7.3539e+00, -1.7314e+01, -3.5644e-01,\n",
      "          1.3965e+00,  1.8016e+01,  3.6000e+00, -5.1930e-02, -1.1172e+00],\n",
      "        [ 7.5599e+00, -3.7377e+00, -1.3556e+00, -8.4807e+00,  6.5278e+00,\n",
      "         -6.1259e+00,  2.2505e+01,  1.5292e+01, -1.2760e-01,  1.2548e+00],\n",
      "        [-4.4972e+00,  4.8799e+00, -7.2318e+00, -2.0319e+01,  1.7330e-01,\n",
      "          5.4568e+00,  1.2948e+01,  1.5259e+01,  2.6846e+00,  1.3667e+00],\n",
      "        [ 6.7448e+00,  3.0912e+00, -2.8173e+00, -1.1376e+01, -2.5891e-01,\n",
      "          1.1737e+01,  1.9691e+01,  1.6239e+01, -2.4890e+00, -5.1828e+00],\n",
      "        [ 4.8357e+00,  1.2302e+00,  2.9945e-03, -8.5321e+00,  9.9337e+00,\n",
      "          2.9452e+00,  1.5069e+01,  8.4267e+00, -4.4344e+00, -4.2707e+00],\n",
      "        [ 1.5132e+00,  1.4920e+00, -1.5152e-01, -1.4328e+01,  4.4743e+00,\n",
      "          8.5385e+00,  1.3703e+01,  1.3231e+01, -3.7944e+00, -3.2458e+00],\n",
      "        [-1.2492e+00,  3.0189e+00,  1.3265e+00, -3.1101e+01,  7.0317e+00,\n",
      "         -3.0163e+00,  2.5617e+01,  7.1743e+00, -7.5051e-02,  4.3274e+00],\n",
      "        [-2.2528e+00,  9.1131e+00, -2.6223e+00, -4.1416e+00, -2.6208e+00,\n",
      "          1.4642e+01,  2.0189e+01,  6.7148e+00,  1.5404e+00, -7.7825e+00],\n",
      "        [ 2.1774e+00,  5.6692e+00, -5.9770e+00, -1.8882e+01,  4.4754e+00,\n",
      "          3.3016e-01,  1.4912e+01,  2.6059e+00, -3.6125e-02, -2.6554e+00],\n",
      "        [ 5.7033e+00, -3.6854e+00, -2.5780e+00, -2.2458e+01, -1.0314e+00,\n",
      "          3.4241e+00,  1.2723e+01,  2.2658e+01,  8.6629e+00, -4.4116e+00],\n",
      "        [ 3.1255e+00, -6.5613e+00, -6.3599e-01, -1.1384e+01, -1.6211e-01,\n",
      "          1.0176e+01,  1.3358e+01,  5.0156e+00, -1.0368e+00, -9.2200e+00],\n",
      "        [ 1.8667e+01, -1.2404e+01,  3.8902e-01, -9.8425e+00,  5.0576e+00,\n",
      "          1.2457e+00,  2.3795e+01,  4.5989e+00,  5.0463e+00, -3.6002e+00],\n",
      "        [-1.2723e+00, -1.8146e+01, -7.9697e+00, -1.7830e+01,  1.1429e+01,\n",
      "          5.1905e+00,  1.3589e+01,  1.1969e+01,  1.5836e+01, -3.2295e+00],\n",
      "        [ 6.6607e+00, -1.8011e-01, -1.2860e+00, -1.4170e+01,  6.8039e+00,\n",
      "         -2.3586e+00,  2.3447e+01,  1.7853e+01,  2.6331e+00,  3.9267e+00],\n",
      "        [ 1.3201e+01, -8.4441e+00, -1.0871e+01, -2.0368e+01, -3.9914e+00,\n",
      "          4.1334e+00,  1.4991e+01,  1.0971e+01, -7.3439e+00, -1.2493e+01],\n",
      "        [ 2.7003e+00,  7.3515e+00, -1.2113e+01, -1.3807e+01,  1.3651e+01,\n",
      "          2.5906e+00,  1.4741e+01,  1.0034e+01, -1.2079e+00, -1.6485e+00],\n",
      "        [ 1.2301e+00,  2.2961e+00,  4.2563e+00, -2.0913e+01,  1.1464e+01,\n",
      "          1.2602e+00,  2.1875e+01,  1.7543e+01, -9.3520e-01,  1.0002e+01],\n",
      "        [ 2.1136e+00,  8.0819e+00, -5.3985e+00, -2.3775e+01,  7.7134e+00,\n",
      "          7.2606e+00,  2.2512e+01,  1.4820e+01,  7.9409e+00,  9.6446e+00],\n",
      "        [ 1.6281e+00,  1.2335e+00, -3.6420e+00, -3.3371e+00,  2.9542e+00,\n",
      "         -3.1547e-01,  2.4277e+01,  4.5357e+00,  5.9759e+00, -2.1659e+00],\n",
      "        [ 5.0225e+00, -1.5868e+01, -3.3505e+00, -1.6256e+01, -2.5739e+00,\n",
      "          9.1508e+00,  1.5777e+01,  7.0359e+00, -2.2555e+00, -8.1600e+00],\n",
      "        [ 1.1245e+01, -6.7237e+00, -1.7303e+01, -1.8408e+01, -5.0078e+00,\n",
      "          6.5573e+00,  1.5280e+01,  2.1051e+00, -1.4362e+01, -5.1207e+00],\n",
      "        [ 8.5231e+00,  2.4681e-01, -2.9077e+00, -1.7994e+01,  4.9143e+00,\n",
      "         -2.0758e+00,  2.0672e+01,  1.4538e+01, -5.5360e+00, -7.4939e+00],\n",
      "        [ 4.4040e+00, -9.3305e+00,  5.2937e+00, -2.2169e+01,  2.2396e+00,\n",
      "          7.8312e+00,  2.6503e+01,  2.0544e+01,  5.9520e+00, -4.6085e-01],\n",
      "        [ 2.1925e+00,  3.1924e+00, -1.1595e+00, -9.9723e+00,  3.4000e+00,\n",
      "          8.2921e+00,  1.5308e+01,  7.7238e+00,  2.4957e+00,  4.7195e+00],\n",
      "        [-1.6825e+00,  5.6118e+00,  1.0765e+00, -1.5020e+01,  6.5826e+00,\n",
      "          7.5043e+00,  1.6748e+01,  8.0501e+00,  9.8952e-01, -6.7711e+00],\n",
      "        [ 2.6552e+00,  2.4240e+00, -7.3944e+00, -1.3749e+01,  2.6487e+00,\n",
      "          8.6036e+00,  2.0606e+01,  6.9349e+00,  5.7166e+00,  1.5380e+00],\n",
      "        [ 4.0832e+00, -1.2530e+00, -6.4641e+00, -1.4873e+01, -4.6254e+00,\n",
      "          1.1281e+01,  1.0506e+01,  1.7192e+01, -8.2761e+00, -3.9535e+00],\n",
      "        [ 1.4001e+01,  5.0710e+00,  8.4142e-01, -1.1706e+00,  3.5644e+00,\n",
      "          7.2662e+00,  2.1921e+01,  6.2761e+00, -1.1106e+01, -7.9877e+00],\n",
      "        [-1.2506e+00, -5.3518e+00, -4.7483e-01, -2.1103e+01, -2.8800e-01,\n",
      "         -2.6446e+00,  2.0861e+01,  1.4317e+01,  1.7736e-01,  3.1853e+00],\n",
      "        [ 8.4030e+00,  3.9570e+00, -9.5312e-01, -1.2516e+01,  2.4759e+00,\n",
      "          1.0985e+01,  1.4134e+01,  1.0626e+01, -8.2179e+00,  1.5012e+00],\n",
      "        [ 5.6370e+00, -1.6595e-02, -2.4050e+00, -1.1493e+01,  1.0135e+01,\n",
      "          6.2967e+00,  1.5278e+01,  3.5604e+00, -5.8651e-01, -4.6354e-01],\n",
      "        [-2.9820e-01,  7.6662e+00, -7.3078e+00, -1.6984e+01,  3.9422e+00,\n",
      "          1.2122e+01,  1.7466e+01,  1.8052e+01,  8.2591e+00,  6.0129e+00],\n",
      "        [ 3.4252e+00, -1.2673e+00, -1.1287e+00, -2.3399e+01,  4.5784e+00,\n",
      "          4.4746e+00,  1.7187e+01,  1.5703e+01,  1.2656e+00, -6.8666e+00],\n",
      "        [-6.7460e+00, -3.4081e-01, -2.4942e-01, -3.1549e+01, -3.8296e-01,\n",
      "          6.4620e+00,  2.9883e+01,  6.5584e+00,  4.3260e+00,  7.3334e+00],\n",
      "        [ 4.8215e+00, -1.3707e+00,  5.2890e-01, -1.1845e+01,  4.5495e+00,\n",
      "         -3.9852e+00,  1.7228e+01,  2.0856e+01,  2.1515e+00,  2.1051e+00],\n",
      "        [ 7.5239e+00,  6.1849e-01, -2.9893e+00, -1.0836e+01, -1.0250e+00,\n",
      "          3.4559e+00,  2.0050e+01,  1.2559e+01,  3.2592e-01, -6.3025e+00],\n",
      "        [ 6.7404e+00,  1.0131e+00, -5.9976e-01, -1.3725e+01,  4.1062e+00,\n",
      "         -5.2244e+00,  1.5099e+01,  2.4781e+01,  2.2938e+00,  4.1096e+00],\n",
      "        [ 2.0649e+00,  2.1076e+00, -2.0998e+00, -1.6819e+01,  3.3841e+00,\n",
      "          4.6438e+00,  1.4736e+01,  9.6944e+00, -2.9639e+00,  1.0012e+01],\n",
      "        [-9.0932e+00,  9.6252e+00,  1.1962e+00, -1.8795e+01, -4.9247e+00,\n",
      "          9.4321e-01,  2.5731e+01,  8.4829e+00, -2.4069e+00, -5.0866e-01],\n",
      "        [ 3.8001e+00,  8.6857e+00, -8.7546e-01, -1.3697e+01,  1.0269e+01,\n",
      "          1.0757e+01,  1.5525e+01,  1.3695e+01, -1.5153e+00,  5.7727e+00],\n",
      "        [ 5.6316e+00,  4.1049e+00, -6.1725e+00, -4.2017e+00,  6.1936e+00,\n",
      "          6.2527e+00,  2.2376e+01,  1.1814e+01, -9.6542e+00, -1.2702e+01],\n",
      "        [ 9.0386e+00, -8.6934e+00, -4.6061e+00, -2.1805e+01,  3.5948e-01,\n",
      "          1.1497e+01,  1.2195e+01,  4.9680e+00, -5.7024e-01, -4.8530e+00],\n",
      "        [ 4.8313e+00, -3.5822e+00, -3.3391e+00, -2.1416e+01,  4.6169e+00,\n",
      "         -3.3905e+00,  1.9135e+01,  2.5807e+01,  2.8532e+00, -1.1391e+00],\n",
      "        [ 3.0658e+00,  2.9405e+00, -4.0716e+00, -1.4531e+01,  2.5522e+00,\n",
      "          1.0220e+01,  1.2346e+01,  9.5618e+00,  8.0752e+00,  3.2181e+00],\n",
      "        [ 1.0894e+00,  8.1243e-01,  8.1439e-01, -6.0868e+00,  6.0217e+00,\n",
      "          2.9247e+00,  9.3183e+00,  1.4188e+01,  5.3608e+00, -5.5860e+00]])\n"
     ]
    }
   ],
   "source": [
    "## Your solution\n",
    "def activation(x):\n",
    "    return 1/(1+torch.exp(-x))\n",
    "#to flatten the images\n",
    "inputs = images.view(images.shape[0], -1)\n",
    "#we have 784 inputs + 256 hidden units\n",
    "w1 = torch.randn(784, 256)\n",
    "b1 = torch.randn(256)\n",
    "#we hav 256 input from prev + 10 outputs\n",
    "w2= torch.randn(256, 10)\n",
    "b2 = torch.randn(10)\n",
    "\n",
    "h = activation(torch.mm(inputs, w1) + b1)\n",
    "\n",
    "out = torch.mm(h, w2) + b2# output of your network, should have shape (64,10)\n",
    "print(out)"
   ]
  },
  {
   "cell_type": "markdown",
   "metadata": {},
   "source": [
    "Now we have 10 outputs for our network. We want to pass in an image to our network and get out a probability distribution over the classes that tells us the likely class(es) the image belongs to. Something that looks like this:\n",
    "<img src='assets/image_distribution.png' width=500px>\n",
    "\n",
    "Here we see that the probability for each class is roughly the same. This is representing an untrained network, it hasn't seen any data yet so it just returns a uniform distribution with equal probabilities for each class.\n",
    "\n",
    "To calculate this probability distribution, we often use the [**softmax** function](https://en.wikipedia.org/wiki/Softmax_function). Mathematically this looks like\n",
    "\n",
    "$$\n",
    "\\Large \\sigma(x_i) = \\cfrac{e^{x_i}}{\\sum_k^K{e^{x_k}}}\n",
    "$$\n",
    "\n",
    "What this does is squish each input $x_i$ between 0 and 1 and normalizes the values to give you a proper probability distribution where the probabilites sum up to one.\n",
    "\n",
    "> **Exercise:** Implement a function `softmax` that performs the softmax calculation and returns probability distributions for each example in the batch. Note that you'll need to pay attention to the shapes when doing this. If you have a tensor `a` with shape `(64, 10)` and a tensor `b` with shape `(64,)`, doing `a/b` will give you an error because PyTorch will try to do the division across the columns (called broadcasting) but you'll get a size mismatch. The way to think about this is for each of the 64 examples, you only want to divide by one value, the sum in the denominator. So you need `b` to have a shape of `(64, 1)`. This way PyTorch will divide the 10 values in each row of `a` by the one value in each row of `b`. Pay attention to how you take the sum as well. You'll need to define the `dim` keyword in `torch.sum`. Setting `dim=0` takes the sum across the rows while `dim=1` takes the sum across the columns."
   ]
  },
  {
   "cell_type": "code",
   "execution_count": 14,
   "metadata": {},
   "outputs": [
    {
     "name": "stdout",
     "output_type": "stream",
     "text": [
      "torch.Size([64, 10])\n",
      "tensor([1.0000, 1.0000, 1.0000, 1.0000, 1.0000, 1.0000, 1.0000, 1.0000, 1.0000,\n",
      "        1.0000, 1.0000, 1.0000, 1.0000, 1.0000, 1.0000, 1.0000, 1.0000, 1.0000,\n",
      "        1.0000, 1.0000, 1.0000, 1.0000, 1.0000, 1.0000, 1.0000, 1.0000, 1.0000,\n",
      "        1.0000, 1.0000, 1.0000, 1.0000, 1.0000, 1.0000, 1.0000, 1.0000, 1.0000,\n",
      "        1.0000, 1.0000, 1.0000, 1.0000, 1.0000, 1.0000, 1.0000, 1.0000, 1.0000,\n",
      "        1.0000, 1.0000, 1.0000, 1.0000, 1.0000, 1.0000, 1.0000, 1.0000, 1.0000,\n",
      "        1.0000, 1.0000, 1.0000, 1.0000, 1.0000, 1.0000, 1.0000, 1.0000, 1.0000,\n",
      "        1.0000])\n"
     ]
    }
   ],
   "source": [
    "def softmax(x):\n",
    "    ## TODO: Implement the softmax function here\n",
    "    return torch.exp(x)/ torch.sum(torch.exp(x), dim = 1).view(-1,1)\n",
    "\n",
    "# Here, out should be the output of the network in the previous excercise with shape (64,10)\n",
    "probabilities = softmax(out)\n",
    "\n",
    "# Does it have the right shape? Should be (64, 10)\n",
    "print(probabilities.shape)\n",
    "# Does it sum to 1?\n",
    "print(probabilities.sum(dim=1))"
   ]
  },
  {
   "cell_type": "markdown",
   "metadata": {},
   "source": [
    "## Building networks with PyTorch\n",
    "\n",
    "PyTorch provides a module `nn` that makes building networks much simpler. Here I'll show you how to build the same one as above with 784 inputs, 256 hidden units, 10 output units and a softmax output."
   ]
  },
  {
   "cell_type": "code",
   "execution_count": 16,
   "metadata": {},
   "outputs": [],
   "source": [
    "from torch import nn"
   ]
  },
  {
   "cell_type": "code",
   "execution_count": 17,
   "metadata": {},
   "outputs": [],
   "source": [
    "class Network(nn.Module):\n",
    "    def __init__(self):\n",
    "        super().__init__()\n",
    "        \n",
    "        # Inputs to hidden layer linear transformation\n",
    "        self.hidden = nn.Linear(784, 256)\n",
    "        # Output layer, 10 units - one for each digit\n",
    "        self.output = nn.Linear(256, 10)\n",
    "        \n",
    "        # Define sigmoid activation and softmax output \n",
    "        self.sigmoid = nn.Sigmoid()\n",
    "        self.softmax = nn.Softmax(dim=1)\n",
    "        \n",
    "    def forward(self, x):\n",
    "        # Pass the input tensor through each of our operations\n",
    "        x = self.hidden(x)\n",
    "        x = self.sigmoid(x)\n",
    "        x = self.output(x)\n",
    "        x = self.softmax(x)\n",
    "        \n",
    "        return x"
   ]
  },
  {
   "cell_type": "markdown",
   "metadata": {},
   "source": [
    "Let's go through this bit by bit.\n",
    "\n",
    "```python\n",
    "class Network(nn.Module):\n",
    "```\n",
    "\n",
    "Here we're inheriting from `nn.Module`. Combined with `super().__init__()` this creates a class that tracks the architecture and provides a lot of useful methods and attributes. It is mandatory to inherit from `nn.Module` when you're creating a class for your network. The name of the class itself can be anything.\n",
    "\n",
    "```python\n",
    "self.hidden = nn.Linear(784, 256)\n",
    "```\n",
    "\n",
    "This line creates a module for a linear transformation, $x\\mathbf{W} + b$, with 784 inputs and 256 outputs and assigns it to `self.hidden`. The module automatically creates the weight and bias tensors which we'll use in the `forward` method. You can access the weight and bias tensors once the network (`net`) is created with `net.hidden.weight` and `net.hidden.bias`.\n",
    "\n",
    "```python\n",
    "self.output = nn.Linear(256, 10)\n",
    "```\n",
    "\n",
    "Similarly, this creates another linear transformation with 256 inputs and 10 outputs.\n",
    "\n",
    "```python\n",
    "self.sigmoid = nn.Sigmoid()\n",
    "self.softmax = nn.Softmax(dim=1)\n",
    "```\n",
    "\n",
    "Here I defined operations for the sigmoid activation and softmax output. Setting `dim=1` in `nn.Softmax(dim=1)` calculates softmax across the columns.\n",
    "\n",
    "```python\n",
    "def forward(self, x):\n",
    "```\n",
    "\n",
    "PyTorch networks created with `nn.Module` must have a `forward` method defined. It takes in a tensor `x` and passes it through the operations you defined in the `__init__` method.\n",
    "\n",
    "```python\n",
    "x = self.hidden(x)\n",
    "x = self.sigmoid(x)\n",
    "x = self.output(x)\n",
    "x = self.softmax(x)\n",
    "```\n",
    "\n",
    "Here the input tensor `x` is passed through each operation and reassigned to `x`. We can see that the input tensor goes through the hidden layer, then a sigmoid function, then the output layer, and finally the softmax function. It doesn't matter what you name the variables here, as long as the inputs and outputs of the operations match the network architecture you want to build. The order in which you define things in the `__init__` method doesn't matter, but you'll need to sequence the operations correctly in the `forward` method.\n",
    "\n",
    "Now we can create a `Network` object."
   ]
  },
  {
   "cell_type": "code",
   "execution_count": 18,
   "metadata": {},
   "outputs": [
    {
     "data": {
      "text/plain": [
       "Network(\n",
       "  (hidden): Linear(in_features=784, out_features=256, bias=True)\n",
       "  (output): Linear(in_features=256, out_features=10, bias=True)\n",
       "  (sigmoid): Sigmoid()\n",
       "  (softmax): Softmax(dim=1)\n",
       ")"
      ]
     },
     "execution_count": 18,
     "metadata": {},
     "output_type": "execute_result"
    }
   ],
   "source": [
    "# Create the network and look at it's text representation\n",
    "model = Network()\n",
    "model"
   ]
  },
  {
   "cell_type": "markdown",
   "metadata": {},
   "source": [
    "You can define the network somewhat more concisely and clearly using the `torch.nn.functional` module. This is the most common way you'll see networks defined as many operations are simple element-wise functions. We normally import this module as `F`, `import torch.nn.functional as F`."
   ]
  },
  {
   "cell_type": "code",
   "execution_count": 22,
   "metadata": {},
   "outputs": [],
   "source": [
    "import torch.nn.functional as F\n",
    "\n",
    "class Network(nn.Module):\n",
    "    def __init__(self):\n",
    "        super().__init__()\n",
    "        # Inputs to hidden layer linear transformation\n",
    "        self.hidden = nn.Linear(784, 256)\n",
    "        # Output layer, 10 units - one for each digit\n",
    "        self.output = nn.Linear(256, 10)\n",
    "        \n",
    "    def forward(self, x):\n",
    "        # Hidden layer with sigmoid activation\n",
    "        x = F.sigmoid(self.hidden(x))\n",
    "        # Output layer with softmax activation\n",
    "        x = F.softmax(self.output(x), dim=1)\n",
    "        \n",
    "        return x"
   ]
  },
  {
   "cell_type": "markdown",
   "metadata": {},
   "source": [
    "### Activation functions\n",
    "\n",
    "So far we've only been looking at the sigmoid activation function, but in general any function can be used as an activation function. The only requirement is that for a network to approximate a non-linear function, the activation functions must be non-linear. Here are a few more examples of common activation functions: Tanh (hyperbolic tangent), and ReLU (rectified linear unit).\n",
    "\n",
    "<img src=\"assets/activation.png\" width=700px>\n",
    "\n",
    "In practice, the ReLU function is used almost exclusively as the activation function for hidden layers."
   ]
  },
  {
   "cell_type": "markdown",
   "metadata": {},
   "source": [
    "### Your Turn to Build a Network\n",
    "\n",
    "<img src=\"assets/mlp_mnist.png\" width=600px>\n",
    "\n",
    "> **Exercise:** Create a network with 784 input units, a hidden layer with 128 units and a ReLU activation, then a hidden layer with 64 units and a ReLU activation, and finally an output layer with a softmax activation as shown above. You can use a ReLU activation with the `nn.ReLU` module or `F.relu` function.\n",
    "\n",
    "It's good practice to name your layers by their type of network, for instance 'fc' to represent a fully-connected layer. As you code your solution, use `fc1`, `fc2`, and `fc3` as your layer names."
   ]
  },
  {
   "cell_type": "code",
   "execution_count": 24,
   "metadata": {
    "scrolled": true
   },
   "outputs": [
    {
     "data": {
      "text/plain": [
       "Network(\n",
       "  (fc1): Linear(in_features=784, out_features=128, bias=True)\n",
       "  (fc2): Linear(in_features=128, out_features=64, bias=True)\n",
       "  (fc3): Linear(in_features=64, out_features=10, bias=True)\n",
       ")"
      ]
     },
     "execution_count": 24,
     "metadata": {},
     "output_type": "execute_result"
    }
   ],
   "source": [
    "## Your solution here\n",
    "class Network(nn.Module):\n",
    "    def __init__(self):\n",
    "        super().__init__()\n",
    "        self.fc1 = nn.Linear(784, 128)\n",
    "        self.fc2 = nn.Linear(128, 64)\n",
    "        self.fc3 = nn.Linear(64, 10)\n",
    "        \n",
    "    def forward(self, x):\n",
    "        x = self.fc1(x)\n",
    "        x = F.relu(x)\n",
    "        x = self.fc2(x)\n",
    "        x = F.relu(x)\n",
    "        x = self.fc3(x)\n",
    "        x = F.softmax(x, dim = 1)\n",
    "        \n",
    "        return x\n",
    "    \n",
    "model = Network()\n",
    "model"
   ]
  },
  {
   "cell_type": "markdown",
   "metadata": {},
   "source": [
    "### Initializing weights and biases\n",
    "\n",
    "The weights and such are automatically initialized for you, but it's possible to customize how they are initialized. The weights and biases are tensors attached to the layer you defined, you can get them with `model.fc1.weight` for instance."
   ]
  },
  {
   "cell_type": "code",
   "execution_count": 25,
   "metadata": {},
   "outputs": [
    {
     "name": "stdout",
     "output_type": "stream",
     "text": [
      "Parameter containing:\n",
      "tensor([[-0.0314, -0.0348, -0.0340,  ...,  0.0016,  0.0145, -0.0254],\n",
      "        [ 0.0238,  0.0344, -0.0102,  ..., -0.0088,  0.0060, -0.0195],\n",
      "        [-0.0190,  0.0017, -0.0178,  ..., -0.0287,  0.0317,  0.0123],\n",
      "        ...,\n",
      "        [ 0.0025,  0.0008,  0.0236,  ..., -0.0040, -0.0138, -0.0347],\n",
      "        [ 0.0101,  0.0116,  0.0305,  ...,  0.0084, -0.0249, -0.0240],\n",
      "        [-0.0347,  0.0151, -0.0226,  ...,  0.0152, -0.0341,  0.0037]],\n",
      "       requires_grad=True)\n",
      "Parameter containing:\n",
      "tensor([ 3.1201e-02, -1.8478e-02,  1.7537e-02, -9.4023e-04, -3.1948e-02,\n",
      "         1.0765e-02, -9.7372e-03,  2.9288e-05,  2.1982e-02,  2.9087e-03,\n",
      "        -2.3354e-02, -1.5205e-02, -3.4355e-02,  3.0539e-02, -2.6303e-02,\n",
      "        -2.1105e-02,  2.6945e-02, -1.4335e-02, -2.9952e-02,  2.8418e-02,\n",
      "        -6.3931e-03, -2.2054e-02,  1.8066e-02,  1.5730e-02, -1.4389e-02,\n",
      "         1.9966e-02, -1.6904e-02, -2.5374e-02,  1.5400e-02, -4.5089e-03,\n",
      "         3.3012e-02,  2.3246e-03, -1.9118e-02,  1.3184e-02,  1.5141e-02,\n",
      "         2.9493e-02, -8.0832e-03,  1.9710e-02,  2.6605e-02, -2.3013e-02,\n",
      "         2.3550e-03,  1.4938e-02, -6.9095e-03, -9.2551e-03,  1.1468e-02,\n",
      "        -4.3155e-03,  1.1443e-02, -1.7024e-03, -1.6103e-02,  1.9077e-02,\n",
      "        -1.3498e-02, -1.9793e-02, -2.3127e-02, -1.0929e-02,  2.0885e-02,\n",
      "        -2.4061e-02,  2.5394e-02, -2.3945e-02, -1.5851e-02, -3.1062e-02,\n",
      "         4.8326e-03, -3.1548e-02, -3.2976e-02, -1.5601e-02,  2.0351e-02,\n",
      "         2.4705e-02,  2.2378e-02,  2.8965e-02,  1.1930e-03,  1.4137e-02,\n",
      "        -1.1727e-02, -1.1505e-02, -9.4558e-04,  2.0227e-02, -2.9693e-03,\n",
      "        -1.2110e-02,  1.1191e-02, -2.7758e-03, -3.2338e-02, -9.2003e-03,\n",
      "        -5.6858e-03, -2.0504e-02,  2.1962e-02, -1.0364e-02,  1.5647e-02,\n",
      "        -1.4363e-02,  3.4354e-02, -3.4422e-02, -2.2090e-02, -9.5929e-03,\n",
      "        -1.8535e-02,  2.6527e-02,  3.3755e-02, -3.2641e-02,  9.7396e-03,\n",
      "         2.6042e-02,  3.1710e-02,  2.7213e-02,  3.6293e-03, -1.3322e-02,\n",
      "        -4.2822e-03,  2.6757e-02, -5.3694e-03,  1.0362e-02,  5.3327e-03,\n",
      "         1.5267e-03,  1.2508e-02, -1.5557e-02, -3.1806e-02, -8.7690e-03,\n",
      "        -2.8824e-02, -1.2052e-02, -2.6472e-02, -3.3403e-02,  1.4413e-02,\n",
      "         2.6423e-02, -1.1419e-02, -2.1122e-02,  1.0736e-02, -2.0922e-02,\n",
      "        -1.6623e-02,  1.5916e-02,  2.3343e-02, -3.2412e-02, -2.8379e-02,\n",
      "         1.7327e-02, -3.0946e-02,  2.0496e-02], requires_grad=True)\n"
     ]
    }
   ],
   "source": [
    "print(model.fc1.weight)\n",
    "print(model.fc1.bias)"
   ]
  },
  {
   "cell_type": "markdown",
   "metadata": {},
   "source": [
    "For custom initialization, we want to modify these tensors in place. These are actually autograd *Variables*, so we need to get back the actual tensors with `model.fc1.weight.data`. Once we have the tensors, we can fill them with zeros (for biases) or random normal values."
   ]
  },
  {
   "cell_type": "code",
   "execution_count": 26,
   "metadata": {},
   "outputs": [
    {
     "data": {
      "text/plain": [
       "tensor([0., 0., 0., 0., 0., 0., 0., 0., 0., 0., 0., 0., 0., 0., 0., 0., 0., 0., 0., 0., 0., 0., 0., 0.,\n",
       "        0., 0., 0., 0., 0., 0., 0., 0., 0., 0., 0., 0., 0., 0., 0., 0., 0., 0., 0., 0., 0., 0., 0., 0.,\n",
       "        0., 0., 0., 0., 0., 0., 0., 0., 0., 0., 0., 0., 0., 0., 0., 0., 0., 0., 0., 0., 0., 0., 0., 0.,\n",
       "        0., 0., 0., 0., 0., 0., 0., 0., 0., 0., 0., 0., 0., 0., 0., 0., 0., 0., 0., 0., 0., 0., 0., 0.,\n",
       "        0., 0., 0., 0., 0., 0., 0., 0., 0., 0., 0., 0., 0., 0., 0., 0., 0., 0., 0., 0., 0., 0., 0., 0.,\n",
       "        0., 0., 0., 0., 0., 0., 0., 0.])"
      ]
     },
     "execution_count": 26,
     "metadata": {},
     "output_type": "execute_result"
    }
   ],
   "source": [
    "# Set biases to all zeros\n",
    "model.fc1.bias.data.fill_(0)"
   ]
  },
  {
   "cell_type": "code",
   "execution_count": 27,
   "metadata": {},
   "outputs": [
    {
     "data": {
      "text/plain": [
       "tensor([[ 6.9274e-03, -4.6124e-03, -8.3477e-03,  ..., -7.8954e-04,\n",
       "          8.0544e-03,  4.2309e-03],\n",
       "        [-1.0519e-02, -5.5897e-03, -1.9706e-03,  ..., -9.5695e-03,\n",
       "         -6.9649e-03, -2.9447e-05],\n",
       "        [-4.0459e-04,  1.0603e-02, -3.0152e-03,  ..., -3.2194e-03,\n",
       "         -7.6366e-03,  3.5098e-03],\n",
       "        ...,\n",
       "        [-3.1553e-03,  1.3606e-02, -6.9095e-03,  ..., -4.2552e-03,\n",
       "         -1.5531e-02,  3.2729e-03],\n",
       "        [-7.9086e-03,  6.2776e-03,  1.2505e-02,  ..., -4.8268e-03,\n",
       "          1.6505e-03, -2.1586e-02],\n",
       "        [ 7.3724e-03, -2.0595e-02, -5.7205e-03,  ..., -1.9196e-02,\n",
       "         -9.5390e-03,  5.1344e-03]])"
      ]
     },
     "execution_count": 27,
     "metadata": {},
     "output_type": "execute_result"
    }
   ],
   "source": [
    "# sample from random normal with standard dev = 0.01\n",
    "model.fc1.weight.data.normal_(std=0.01)"
   ]
  },
  {
   "cell_type": "markdown",
   "metadata": {},
   "source": [
    "### Forward pass\n",
    "\n",
    "Now that we have a network, let's see what happens when we pass in an image."
   ]
  },
  {
   "cell_type": "code",
   "execution_count": 28,
   "metadata": {},
   "outputs": [
    {
     "data": {
      "image/png": "[encoded data removed]",
      "text/plain": [
       "<Figure size 432x648 with 2 Axes>"
      ]
     },
     "metadata": {
      "image/png": {
       "height": 226,
       "width": 423
      },
      "needs_background": "light"
     },
     "output_type": "display_data"
    }
   ],
   "source": [
    "# Grab some data \n",
    "dataiter = iter(trainloader)\n",
    "images, labels = dataiter.next()\n",
    "\n",
    "# Resize images into a 1D vector, new shape is (batch size, color channels, image pixels) \n",
    "images.resize_(64, 1, 784)\n",
    "# or images.resize_(images.shape[0], 1, 784) to automatically get batch size\n",
    "\n",
    "# Forward pass through the network\n",
    "img_idx = 0\n",
    "ps = model.forward(images[img_idx,:])\n",
    "\n",
    "img = images[img_idx]\n",
    "helper.view_classify(img.view(1, 28, 28), ps)"
   ]
  },
  {
   "cell_type": "markdown",
   "metadata": {},
   "source": [
    "As you can see above, our network has basically no idea what this digit is. It's because we haven't trained it yet, all the weights are random!\n",
    "\n",
    "### Using `nn.Sequential`\n",
    "\n",
    "PyTorch provides a convenient way to build networks like this where a tensor is passed sequentially through operations, `nn.Sequential` ([documentation](https://pytorch.org/docs/master/nn.html#torch.nn.Sequential)). Using this to build the equivalent network:"
   ]
  },
  {
   "cell_type": "code",
   "execution_count": 29,
   "metadata": {},
   "outputs": [
    {
     "name": "stdout",
     "output_type": "stream",
     "text": [
      "Sequential(\n",
      "  (0): Linear(in_features=784, out_features=128, bias=True)\n",
      "  (1): ReLU()\n",
      "  (2): Linear(in_features=128, out_features=64, bias=True)\n",
      "  (3): ReLU()\n",
      "  (4): Linear(in_features=64, out_features=10, bias=True)\n",
      "  (5): Softmax(dim=1)\n",
      ")\n"
     ]
    },
    {
     "data": {
      "image/png": "[encoded data removed]",
      "text/plain": [
       "<Figure size 432x648 with 2 Axes>"
      ]
     },
     "metadata": {
      "image/png": {
       "height": 226,
       "width": 423
      },
      "needs_background": "light"
     },
     "output_type": "display_data"
    }
   ],
   "source": [
    "# Hyperparameters for our network\n",
    "input_size = 784\n",
    "hidden_sizes = [128, 64]\n",
    "output_size = 10\n",
    "\n",
    "# Build a feed-forward network\n",
    "model = nn.Sequential(nn.Linear(input_size, hidden_sizes[0]),\n",
    "                      nn.ReLU(),\n",
    "                      nn.Linear(hidden_sizes[0], hidden_sizes[1]),\n",
    "                      nn.ReLU(),\n",
    "                      nn.Linear(hidden_sizes[1], output_size),\n",
    "                      nn.Softmax(dim=1))\n",
    "print(model)\n",
    "\n",
    "# Forward pass through the network and display output\n",
    "images, labels = next(iter(trainloader))\n",
    "images.resize_(images.shape[0], 1, 784)\n",
    "ps = model.forward(images[0,:])\n",
    "helper.view_classify(images[0].view(1, 28, 28), ps)"
   ]
  },
  {
   "cell_type": "markdown",
   "metadata": {},
   "source": [
    "Here our model is the same as before: 784 input units, a hidden layer with 128 units, ReLU activation, 64 unit hidden layer, another ReLU, then the output layer with 10 units, and the softmax output.\n",
    "\n",
    "The operations are available by passing in the appropriate index. For example, if you want to get first Linear operation and look at the weights, you'd use `model[0]`."
   ]
  },
  {
   "cell_type": "code",
   "execution_count": 30,
   "metadata": {},
   "outputs": [
    {
     "name": "stdout",
     "output_type": "stream",
     "text": [
      "Linear(in_features=784, out_features=128, bias=True)\n"
     ]
    },
    {
     "data": {
      "text/plain": [
       "Parameter containing:\n",
       "tensor([[ 5.3082e-05, -3.2182e-02,  2.1103e-02,  ..., -1.7535e-02,\n",
       "          1.9954e-02, -2.9325e-03],\n",
       "        [ 3.0917e-02, -3.2240e-02, -2.9788e-02,  ...,  2.3351e-02,\n",
       "         -6.9963e-03, -2.5361e-02],\n",
       "        [ 2.7139e-03,  3.1193e-02, -2.4272e-02,  ...,  2.3695e-02,\n",
       "          1.9079e-02,  1.1074e-02],\n",
       "        ...,\n",
       "        [-3.4630e-02, -7.4160e-03,  2.2111e-02,  ...,  2.8742e-02,\n",
       "          2.4248e-02, -1.7784e-02],\n",
       "        [ 3.6964e-03,  2.9036e-02, -3.4868e-02,  ...,  7.8138e-03,\n",
       "         -6.5799e-03,  6.1050e-03],\n",
       "        [-3.0395e-03, -2.5044e-02, -2.9651e-02,  ..., -7.6181e-03,\n",
       "         -3.3066e-02, -2.8203e-02]], requires_grad=True)"
      ]
     },
     "execution_count": 30,
     "metadata": {},
     "output_type": "execute_result"
    }
   ],
   "source": [
    "print(model[0])\n",
    "model[0].weight"
   ]
  },
  {
   "cell_type": "markdown",
   "metadata": {},
   "source": [
    "You can also pass in an `OrderedDict` to name the individual layers and operations, instead of using incremental integers. Note that dictionary keys must be unique, so _each operation must have a different name_."
   ]
  },
  {
   "cell_type": "code",
   "execution_count": 31,
   "metadata": {},
   "outputs": [
    {
     "data": {
      "text/plain": [
       "Sequential(\n",
       "  (fc1): Linear(in_features=784, out_features=128, bias=True)\n",
       "  (relu1): ReLU()\n",
       "  (fc2): Linear(in_features=128, out_features=64, bias=True)\n",
       "  (relu2): ReLU()\n",
       "  (output): Linear(in_features=64, out_features=10, bias=True)\n",
       "  (softmax): Softmax(dim=1)\n",
       ")"
      ]
     },
     "execution_count": 31,
     "metadata": {},
     "output_type": "execute_result"
    }
   ],
   "source": [
    "from collections import OrderedDict\n",
    "model = nn.Sequential(OrderedDict([\n",
    "                      ('fc1', nn.Linear(input_size, hidden_sizes[0])),\n",
    "                      ('relu1', nn.ReLU()),\n",
    "                      ('fc2', nn.Linear(hidden_sizes[0], hidden_sizes[1])),\n",
    "                      ('relu2', nn.ReLU()),\n",
    "                      ('output', nn.Linear(hidden_sizes[1], output_size)),\n",
    "                      ('softmax', nn.Softmax(dim=1))]))\n",
    "model"
   ]
  },
  {
   "cell_type": "markdown",
   "metadata": {},
   "source": [
    "Now you can access layers either by integer or the name"
   ]
  },
  {
   "cell_type": "code",
   "execution_count": 32,
   "metadata": {},
   "outputs": [
    {
     "name": "stdout",
     "output_type": "stream",
     "text": [
      "Linear(in_features=784, out_features=128, bias=True)\n",
      "Linear(in_features=784, out_features=128, bias=True)\n"
     ]
    }
   ],
   "source": [
    "print(model[0])\n",
    "print(model.fc1)"
   ]
  },
  {
   "cell_type": "markdown",
   "metadata": {},
   "source": [
    "In the next notebook, we'll see how we can train a neural network to accuractly predict the numbers appearing in the MNIST images."
   ]
  }
 ],
 "metadata": {
  "kernelspec": {
   "display_name": "Python 3",
   "language": "python",
   "name": "python3"
  },
  "language_info": {
   "codemirror_mode": {
    "name": "ipython",
    "version": 3
   },
   "file_extension": ".py",
   "mimetype": "text/x-python",
   "name": "python",
   "nbconvert_exporter": "python",
   "pygments_lexer": "ipython3",
   "version": "3.7.3"
  }
 },
 "nbformat": 4,
 "nbformat_minor": 2
}
